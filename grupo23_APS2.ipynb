{
 "cells": [
  {
   "cell_type": "markdown",
   "metadata": {},
   "source": [
    "## APS 2 - Aplicação do Método de Diferenças Finitas\n",
    "\n",
    "- Lorran Lopes\n",
    "- Letícia Coelho\n",
    "- Lídia Alves"
   ]
  },
  {
   "cell_type": "markdown",
   "metadata": {},
   "source": [
    "#### Definição do problema"
   ]
  },
  {
   "cell_type": "markdown",
   "metadata": {},
   "source": [
    "Considere uma aleta de seção transversal circular e constante, com temperatura fixa na base e exposta ao ambiente em todas as outras superfícies. Podemos esboçar as entradas e saídas de energia em um volume de controle definido ao redor\n",
    "de uma seção como indica a Fig.1. "
   ]
  },
  {
   "cell_type": "markdown",
   "metadata": {},
   "source": [
    "<img src = \"aleta.png\">"
   ]
  },
  {
   "cell_type": "markdown",
   "metadata": {},
   "source": [
    "Substituindo as equações de taxa qx\n",
    ", qx+dx e dqconv podemos obter a forma geral da equação da energia para uma\n",
    "superfície estendida, em regime transiente como:"
   ]
  },
  {
   "cell_type": "markdown",
   "metadata": {},
   "source": [
    "<img src = \"equacao.png\">"
   ]
  },
  {
   "cell_type": "markdown",
   "metadata": {},
   "source": [
    "Onde 𝛼 é a difusividade do material, 𝐴tr é a área da seção transversal a aleta, ℎ é o coeficiente de transferência de calor\n",
    "por convecção, 𝜅 é a condutividade térmica do material da aleta e 𝑃 é o perímetro da seção da aleta"
   ]
  },
  {
   "cell_type": "markdown",
   "metadata": {},
   "source": [
    "#### Item 01"
   ]
  },
  {
   "cell_type": "markdown",
   "metadata": {},
   "source": [
    "Para essa questão, é possível pensar no método das diferenças finitas para uma condução unidimensional, que é o caso da aleta acima. Nesse sentido, é possível pensar em duas aproximações para a segunda e primeira derivada:"
   ]
  },
  {
   "cell_type": "markdown",
   "metadata": {},
   "source": [
    "<img src = \"derivadas.png\">"
   ]
  },
  {
   "cell_type": "markdown",
   "metadata": {},
   "source": [
    "Com essas equações e considerando os da segunda derivada no mesmo tempo, é possível fazer algumas manipulações:"
   ]
  },
  {
   "cell_type": "markdown",
   "metadata": {},
   "source": [
    "<img src = \"manipulacao.png\">"
   ]
  },
  {
   "cell_type": "markdown",
   "metadata": {},
   "source": [
    "#### Item 02"
   ]
  },
  {
   "cell_type": "markdown",
   "metadata": {},
   "source": [
    "#### Definindo os parâmetros"
   ]
  },
  {
   "cell_type": "code",
   "execution_count": 4,
   "metadata": {},
   "outputs": [],
   "source": [
    "import numpy as np\n",
    "import matplotlib.pyplot as plt\n",
    "from mpl_toolkits.axes_grid1 import make_axes_locatable\n",
    "from math import *\n",
    "\n",
    "#%% Entrada de dados\n",
    "# Comprimento da aleta (em m)\n",
    "L = 0.3\n",
    "\n",
    "# Diâmetro e raio da aleta (em m)\n",
    "D = 0.005\n",
    "R = D/2\n",
    "\n",
    "# Perímetro da aleta (em m)\n",
    "P = pi*D\n",
    "\n",
    "# Área transversal da aleta (em m^2)\n",
    "Atr = (pi*D**2)/4\n",
    "\n",
    "# Área da superfície da aleta (em m^2)\n",
    "A = Atr + 2*pi*L*R\n",
    "\n",
    "# Coeficiente de convecção térmica (em W/m^2K)\n",
    "h = 50\n",
    "\n",
    "# Coeficiente de condutividade térmica no Alumínio (em W/m.K)\n",
    "k = 180\n",
    "\n",
    "# Calor específico (em J/kgK)\n",
    "c = 896\n",
    "\n",
    "# Densidade [kg/m3]\n",
    "d = 2700 \n",
    "\n",
    "# Difusividade [m²/s]\n",
    "alpha = k/(d*c)\n",
    "\n",
    "# Temperatura ambiente (em K)\n",
    "Tamb = 50 + 273\n",
    "\n",
    "# Temperatura da base (em K)\n",
    "Tb = 100 + 273\n",
    "\n",
    "# Temperatura na extremidade (em K)\n",
    "TL = 25 + 273\n",
    "\n",
    "# Discretização da malha em x [m]\n",
    "dx = 1e-3\n",
    "\n",
    "# Discretização no tempo [s]\n",
    "dt = 0.9*(dx**2)/(alpha*(((h*P*dx*dx)/(k*Atr)) + 2))\n",
    "\n",
    "# Número de passos no tempo []\n",
    "nt = 180001\n",
    "\n",
    "#%% Cálculos iniciais\n",
    "# Tempo total [s]\n",
    "tt = dt*nt\n",
    "\n",
    "#numero de nós []\n",
    "nn = int(L/dx)+1\n",
    "\n",
    "#%% Tolerancia []\n",
    "tol = 1e-10"
   ]
  },
  {
   "cell_type": "markdown",
   "metadata": {},
   "source": [
    "#### Por método númerico:"
   ]
  },
  {
   "cell_type": "code",
   "execution_count": 8,
   "metadata": {},
   "outputs": [
    {
     "name": "stdout",
     "output_type": "stream",
     "text": [
      "Meu erro é 9.998950874081243e-11 no tempo 403.1935047216975 s\n"
     ]
    },
    {
     "data": {
      "text/plain": [
       "Text(0.5, 0, 'Posição [cm]')"
      ]
     },
     "execution_count": 8,
     "metadata": {},
     "output_type": "execute_result"
    },
    {
     "data": {
      "image/png": "[encoded data removed]",
      "text/plain": [
       "<Figure size 432x288 with 1 Axes>"
      ]
     },
     "metadata": {
      "needs_background": "light"
     },
     "output_type": "display_data"
    }
   ],
   "source": [
    "#%% Matriz para armazenar todas as temperaturas [C] \n",
    "#matriz para armazenar todas temperaturas [C]\n",
    "TM = np.zeros((nt,nn))\n",
    "\n",
    "# Condição inicial\n",
    "TM[:,:] = 50 + 273\n",
    "TM[:,nn-1] = 25 + 273\n",
    "TM[:,0] = 100 + 273\n",
    "\n",
    "for l in range(0, nt-1):\n",
    "    for m in range(1, nn-1):\n",
    "        cte1 = alpha * dt * ((TM[l,m+1] - 2*TM[l,m] + TM[l, m-1])/(dx*dx))\n",
    "        cte2 = alpha * dt * (((h*P)/(k*Atr))*(TM[l,m] - Tamb))\n",
    "        TM[l+1, m] = cte1 - cte2 + TM[l, m]\n",
    "        \n",
    "    erro = np.amax(abs((TM[l+1,1:nn-1] - TM[l,1:nn-1])/(np.max(TM[l+1,1:nn-1]))))\n",
    "    \n",
    "    if (abs(erro) <= tol):\n",
    "        tempo = l+1\n",
    "        print(f'Meu erro é {abs(erro)} no tempo {(l+1)*dt} s')\n",
    "        break\n",
    "\n",
    "inst = nt\n",
    "#posições dos nós\n",
    "x = np.linspace(0.0, L, nn)\n",
    "T = np.array(TM[tempo, 0:nn])\n",
    "plt.plot(x,T)\n",
    "plt.grid(True)\n",
    "plt.title(\"Temperatura de acordo com a posição\")\n",
    "plt.ylabel(\"Temp [°C]\")\n",
    "plt.xlabel(\"Posição [cm]\")"
   ]
  },
  {
   "cell_type": "markdown",
   "metadata": {},
   "source": [
    "#### Item 3"
   ]
  },
  {
   "cell_type": "markdown",
   "metadata": {},
   "source": [
    "#### Por método analítico"
   ]
  },
  {
   "cell_type": "markdown",
   "metadata": {},
   "source": [
    "É possível analisar o comportamento térmico da aleta de forma analítica, para confirmar também o pensamento numérico. A distribuição de temperatura desse modo usa como condição de contorno também a temperatura na extremidade de 25 ºC, ou seja, de 298 K. Desse modo, a distribuição de temperatura funciona da seguinte forma:"
   ]
  },
  {
   "cell_type": "markdown",
   "metadata": {},
   "source": [
    "<img src = \"eq_analitica.png\">"
   ]
  },
  {
   "cell_type": "markdown",
   "metadata": {},
   "source": [
    "Onde:"
   ]
  },
  {
   "attachments": {},
   "cell_type": "markdown",
   "metadata": {},
   "source": [
    "<img src = \"eq_teta.png\">"
   ]
  },
  {
   "cell_type": "markdown",
   "metadata": {},
   "source": [
    "Fazendo as devidas operações matemáticas:"
   ]
  },
  {
   "cell_type": "markdown",
   "metadata": {},
   "source": [
    "<img src = \"equacoes.png\">"
   ]
  },
  {
   "cell_type": "markdown",
   "metadata": {},
   "source": [
    "Com isso, pode-se chegar ao seguinte código:"
   ]
  },
  {
   "cell_type": "code",
   "execution_count": 9,
   "metadata": {},
   "outputs": [],
   "source": [
    "def calc_m(h, P, k, Atr):\n",
    "    m = sqrt((h * P)/(k * Atr))\n",
    "    return m\n",
    "\n",
    "def dist_temperatura(h, P, k, Atr, L, Tb, Tamb, TL, x):\n",
    "    m = calc_m(h, P, k, Atr)\n",
    "    tetab = Tb - Tamb\n",
    "    tetaL = TL - Tamb\n",
    "    numerador = (tetaL*np.sinh(m * x) + (tetab)*np.sinh(m * (L - x)))\n",
    "    denominador =  np.sinh(m * L)\n",
    "    dist = numerador/denominador\n",
    "    TL = dist + Tamb\n",
    "    return TL"
   ]
  },
  {
   "cell_type": "code",
   "execution_count": 10,
   "metadata": {},
   "outputs": [
    {
     "data": {
      "image/png": "[encoded data removed]",
      "text/plain": [
       "<Figure size 432x288 with 1 Axes>"
      ]
     },
     "metadata": {
      "needs_background": "light"
     },
     "output_type": "display_data"
    }
   ],
   "source": [
    "lista_T = []\n",
    "lista_x = np.arange(0,L,1e-5)\n",
    "\n",
    "for x in lista_x:\n",
    "    lista_T.append(dist_temperatura(h, P, k, Atr, L, Tb, Tamb, TL, x))\n",
    "\n",
    "plt.title(\"Distribuição da temperatura\")\n",
    "plt.plot(lista_x, lista_T)\n",
    "plt.grid(True)\n",
    "plt.xlabel(\"Comprimento da aleta [m]\")\n",
    "plt.ylabel(\"Temperatura [K]\")\n",
    "plt.show()"
   ]
  },
  {
   "cell_type": "markdown",
   "metadata": {},
   "source": [
    "Como é possível observar, o método numérico obteve o mesmo resultado gráfico do modelo analítico, o que era esperado, visto que os dois deveriam chegar ao mesmo resultado expostas ás mesmas condições iniciais e sendo a mesma aleta. "
   ]
  }
 ],
 "metadata": {
  "kernelspec": {
   "display_name": "Python 3",
   "language": "python",
   "name": "python3"
  },
  "language_info": {
   "codemirror_mode": {
    "name": "ipython",
    "version": 3
   },
   "file_extension": ".py",
   "mimetype": "text/x-python",
   "name": "python",
   "nbconvert_exporter": "python",
   "pygments_lexer": "ipython3",
   "version": "3.8.5"
  }
 },
 "nbformat": 4,
 "nbformat_minor": 4
}
