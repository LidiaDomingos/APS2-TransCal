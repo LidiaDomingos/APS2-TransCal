{
 "cells": [
  {
   "cell_type": "markdown",
   "metadata": {},
   "source": [
    "## APS 2 - Aplicação do Método de Diferenças Finitas\n",
    "\n",
    "- Lorran Lopes\n",
    "- Letícia Coelho\n",
    "- Lídia Alves"
   ]
  },
  {
   "cell_type": "markdown",
   "metadata": {},
   "source": [
    "#### Definição do problema"
   ]
  },
  {
   "cell_type": "markdown",
   "metadata": {},
   "source": [
    "Considere uma aleta de seção transversal circular e constante, com temperatura fixa na base e exposta ao ambiente em todas as outras superfícies. Podemos esboçar as entradas e saídas de energia em um volume de controle definido ao redor\n",
    "de uma seção como indica a Fig.1. "
   ]
  },
  {
   "cell_type": "markdown",
   "metadata": {},
   "source": [
    "<img src = \"aleta.png\">"
   ]
  },
  {
   "cell_type": "markdown",
   "metadata": {},
   "source": [
    "Substituindo as equações de taxa qx\n",
    ", qx+dx e dqconv podemos obter a forma geral da equação da energia para uma\n",
    "superfície estendida, em regime transiente como:"
   ]
  },
  {
   "cell_type": "markdown",
   "metadata": {},
   "source": [
    "<img src = \"equacao.png\">"
   ]
  },
  {
   "cell_type": "markdown",
   "metadata": {},
   "source": [
    "Onde 𝛼 é a difusividade do material, 𝐴tr é a área da seção transversal a aleta, ℎ é o coeficiente de transferência de calor\n",
    "por convecção, 𝜅 é a condutividade térmica do material da aleta e 𝑃 é o perímetro da seção da aleta"
   ]
  },
  {
   "cell_type": "markdown",
   "metadata": {},
   "source": [
    "#### Item 01"
   ]
  },
  {
   "cell_type": "markdown",
   "metadata": {},
   "source": [
    "Para essa questão, é possível pensar no método das diferenças finitas para uma condução unidimensional, que é o caso da aleta acima. Nesse sentido, é possível pensar em duas aproximações para a segunda e primeira derivada:"
   ]
  },
  {
   "cell_type": "markdown",
   "metadata": {},
   "source": [
    "<img src = \"derivadas.png\">"
   ]
  },
  {
   "cell_type": "markdown",
   "metadata": {},
   "source": [
    "Com essas equações e considerando os da segunda derivada no mesmo tempo, é possível fazer algumas manipulações:"
   ]
  },
  {
   "cell_type": "markdown",
   "metadata": {},
   "source": [
    "<img src = \"manipulacao.png\">"
   ]
  },
  {
   "cell_type": "markdown",
   "metadata": {},
   "source": [
    "#### Item 02"
   ]
  },
  {
   "cell_type": "markdown",
   "metadata": {},
   "source": [
    "#### Definindo os parâmetros"
   ]
  },
  {
   "cell_type": "code",
   "execution_count": 31,
   "metadata": {},
   "outputs": [],
   "source": [
    "import numpy as np\n",
    "import matplotlib.pyplot as plt\n",
    "from mpl_toolkits.axes_grid1 import make_axes_locatable\n",
    "from math import *\n",
    "\n",
    "#%% Entrada de dados\n",
    "# Comprimento da aleta (em m)\n",
    "L = 0.3\n",
    "\n",
    "# Diâmetro e raio da aleta (em m)\n",
    "D = 0.005\n",
    "R = D/2\n",
    "\n",
    "# Perímetro da aleta (em m)\n",
    "P = pi*D\n",
    "\n",
    "# Área transversal da aleta (em m^2)\n",
    "Atr = (pi*D**2)/4\n",
    "\n",
    "# Área da superfície da aleta (em m^2)\n",
    "A = Atr + 2*pi*L*R\n",
    "\n",
    "# Coeficiente de convecção térmica (em W/m^2K)\n",
    "h = 50\n",
    "\n",
    "# Coeficiente de condutividade térmica no Alumínio (em W/m.K)\n",
    "k = 180\n",
    "\n",
    "# Calor específico (em J/kgK)\n",
    "c = 896\n",
    "\n",
    "# Densidade [kg/m3]\n",
    "d = 2700 \n",
    "\n",
    "# Difusividade [m²/s]\n",
    "alpha = k/(d*c)\n",
    "\n",
    "# Temperatura ambiente (em K)\n",
    "Tamb = 50 + 273\n",
    "\n",
    "# Temperatura da base (em K)\n",
    "Tb = 100 + 273\n",
    "\n",
    "# Discretização da malha em x [m]\n",
    "dx = 1e-3\n",
    "\n",
    "# Discretização no tempo [s]\n",
    "dt = 0.9*(dx**2)/(alpha*(((h*P*dx*dx)/(k*Atr)) + 2))\n",
    "\n",
    "# Número de passos no tempo []\n",
    "nt = 1001\n",
    "\n",
    "#%% Cálculos iniciais\n",
    "# Tempo total [s]\n",
    "tt = dt*nt\n",
    "\n",
    "#numero de nós []\n",
    "nn = int(L/dx)+1\n",
    "\n",
    "#%% Tolerancia []\n",
    "tol = 1e-10\n"
   ]
  },
  {
   "cell_type": "markdown",
   "metadata": {},
   "source": [
    "#### Por método númerico:"
   ]
  },
  {
   "cell_type": "code",
   "execution_count": 32,
   "metadata": {},
   "outputs": [
    {
     "data": {
      "text/plain": [
       "Text(0.5, 0, 'Posição [cm]')"
      ]
     },
     "execution_count": 32,
     "metadata": {},
     "output_type": "execute_result"
    },
    {
     "data": {
      "image/png": "[encoded data removed]",
      "text/plain": [
       "<Figure size 432x288 with 1 Axes>"
      ]
     },
     "metadata": {
      "needs_background": "light"
     },
     "output_type": "display_data"
    }
   ],
   "source": [
    "#%% Matriz para armazenar todas as temperaturas [C] \n",
    "#matriz para armazenar todas temperaturas [C]\n",
    "TM = np.zeros((nt,nn))\n",
    "\n",
    "# Condição inicial\n",
    "TM[:,:] = 50 + 273\n",
    "TM[:,nn-1] = 25 + 273\n",
    "TM[:,0] = 100 + 273\n",
    "\n",
    "for l in range(0, nt-1):\n",
    "    for m in range(1, nn-1):\n",
    "        cte1 = alpha * dt * ((TM[l,m+1] - 2*TM[l,m] + TM[l, m-1])/(dx*dx))\n",
    "        cte2 = alpha * dt * (((h*P)/(k*Atr))*(TM[l,m] - Tamb))\n",
    "        TM[l+1, m] = cte1 - cte2 + TM[l, m]\n",
    "        \n",
    "\n",
    "#posições dos nós\n",
    "x = np.linspace(0.0, L, nn)\n",
    "T = np.array(TM[inst-1, 0:nn])\n",
    "plt.plot(x,T)\n",
    "plt.ylabel(\"Temp [°C]\")\n",
    "plt.xlabel(\"Posição [cm]\")"
   ]
  },
  {
   "cell_type": "markdown",
   "metadata": {},
   "source": [
    "#### Item 3"
   ]
  }
 ],
 "metadata": {
  "kernelspec": {
   "display_name": "Python 3",
   "language": "python",
   "name": "python3"
  },
  "language_info": {
   "codemirror_mode": {
    "name": "ipython",
    "version": 3
   },
   "file_extension": ".py",
   "mimetype": "text/x-python",
   "name": "python",
   "nbconvert_exporter": "python",
   "pygments_lexer": "ipython3",
   "version": "3.8.5"
  }
 },
 "nbformat": 4,
 "nbformat_minor": 4
}
